{
 "cells": [
  {
   "cell_type": "code",
   "execution_count": 8,
   "metadata": {},
   "outputs": [],
   "source": [
    "def add(n1,n2):\n",
    "    print(\"Answer = \",n1+n2)\n",
    "\n",
    "def subtract(n1,n2):\n",
    "    if n1 > n2:\n",
    "        print(\"Answer = \",n1-n2)\n",
    "    elif n2 < n1:\n",
    "        print(\"Answer = \",n2-n1)\n",
    "\n",
    "def multiply(n1,n2):\n",
    "    print(\"Answer = \",n1*n2)\n",
    "\n",
    "def divide(n1,n2):\n",
    "    if n1 > n2:\n",
    "        print(\"Answer = \",n1/n2)\n",
    "    elif n2 < n1:\n",
    "        print(\"Answer = \",n2/n1)"
   ]
  },
  {
   "cell_type": "code",
   "execution_count": 9,
   "metadata": {},
   "outputs": [],
   "source": [
    "x = int(input(\"Enter first number: \"))\n",
    "y = int(input(\"Enter Second Number: \"))\n",
    "choice = str(input(\"Enter operation: \"))"
   ]
  },
  {
   "cell_type": "code",
   "execution_count": 10,
   "metadata": {},
   "outputs": [
    {
     "name": "stdout",
     "output_type": "stream",
     "text": [
      "Answer =  8\n"
     ]
    }
   ],
   "source": [
    "if choice == '+':\n",
    "    add(x,y)\n",
    "\n",
    "elif choice == '-':\n",
    "    subtract(x,y)\n",
    "\n",
    "elif choice == '*':\n",
    "    multiply(x,y)\n",
    "\n",
    "elif choice == '/':\n",
    "    divide(x,y)            \n",
    "\n",
    "else:\n",
    "    print(\"You have given a wrong choice.\")    \n"
   ]
  }
 ],
 "metadata": {
  "kernelspec": {
   "display_name": "Python 3",
   "language": "python",
   "name": "python3"
  },
  "language_info": {
   "codemirror_mode": {
    "name": "ipython",
    "version": 3
   },
   "file_extension": ".py",
   "mimetype": "text/x-python",
   "name": "python",
   "nbconvert_exporter": "python",
   "pygments_lexer": "ipython3",
   "version": "3.12.2"
  }
 },
 "nbformat": 4,
 "nbformat_minor": 2
}
